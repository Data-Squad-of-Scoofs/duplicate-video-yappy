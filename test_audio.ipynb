{
 "cells": [
  {
   "cell_type": "code",
   "execution_count": 1,
   "metadata": {},
   "outputs": [
    {
     "name": "stdout",
     "output_type": "stream",
     "text": [
      "Python 3.10.14\n"
     ]
    }
   ],
   "source": [
    "!python --version"
   ]
  },
  {
   "cell_type": "code",
   "execution_count": 2,
   "metadata": {},
   "outputs": [
    {
     "name": "stdout",
     "output_type": "stream",
     "text": [
      "Defaulting to user installation because normal site-packages is not writeable\n",
      "Requirement already satisfied: numpy==1.23.5 in /home/fluke/.local/lib/python3.10/site-packages (1.23.5)\n",
      "Requirement already satisfied: torch in /home/fluke/.local/lib/python3.10/site-packages (2.4.1)\n",
      "Requirement already satisfied: laion_clap in /home/fluke/.local/lib/python3.10/site-packages (1.1.6)\n",
      "Requirement already satisfied: torchvision in /home/fluke/.local/lib/python3.10/site-packages (0.19.1)\n",
      "Requirement already satisfied: typing-extensions>=4.8.0 in /home/fluke/.local/lib/python3.10/site-packages (from torch) (4.12.2)\n",
      "Requirement already satisfied: jinja2 in /home/fluke/.local/lib/python3.10/site-packages (from torch) (3.1.4)\n",
      "Requirement already satisfied: nvidia-curand-cu12==10.3.2.106 in /home/fluke/.local/lib/python3.10/site-packages (from torch) (10.3.2.106)\n",
      "Requirement already satisfied: fsspec in /home/fluke/.local/lib/python3.10/site-packages (from torch) (2024.9.0)\n",
      "Requirement already satisfied: nvidia-cufft-cu12==11.0.2.54 in /home/fluke/.local/lib/python3.10/site-packages (from torch) (11.0.2.54)\n",
      "Requirement already satisfied: nvidia-cusolver-cu12==11.4.5.107 in /home/fluke/.local/lib/python3.10/site-packages (from torch) (11.4.5.107)\n",
      "Requirement already satisfied: nvidia-cudnn-cu12==9.1.0.70 in /home/fluke/.local/lib/python3.10/site-packages (from torch) (9.1.0.70)\n",
      "Requirement already satisfied: nvidia-cusparse-cu12==12.1.0.106 in /home/fluke/.local/lib/python3.10/site-packages (from torch) (12.1.0.106)\n",
      "Requirement already satisfied: nvidia-nccl-cu12==2.20.5 in /home/fluke/.local/lib/python3.10/site-packages (from torch) (2.20.5)\n",
      "Requirement already satisfied: nvidia-nvtx-cu12==12.1.105 in /home/fluke/.local/lib/python3.10/site-packages (from torch) (12.1.105)\n",
      "Requirement already satisfied: filelock in /home/fluke/.local/lib/python3.10/site-packages (from torch) (3.16.1)\n",
      "Requirement already satisfied: nvidia-cublas-cu12==12.1.3.1 in /home/fluke/.local/lib/python3.10/site-packages (from torch) (12.1.3.1)\n",
      "Requirement already satisfied: nvidia-cuda-cupti-cu12==12.1.105 in /home/fluke/.local/lib/python3.10/site-packages (from torch) (12.1.105)\n",
      "Requirement already satisfied: networkx in /home/fluke/.local/lib/python3.10/site-packages (from torch) (3.3)\n",
      "Requirement already satisfied: nvidia-cuda-runtime-cu12==12.1.105 in /home/fluke/.local/lib/python3.10/site-packages (from torch) (12.1.105)\n",
      "Requirement already satisfied: triton==3.0.0 in /home/fluke/.local/lib/python3.10/site-packages (from torch) (3.0.0)\n",
      "Requirement already satisfied: sympy in /home/fluke/.local/lib/python3.10/site-packages (from torch) (1.13.3)\n",
      "Requirement already satisfied: nvidia-cuda-nvrtc-cu12==12.1.105 in /home/fluke/.local/lib/python3.10/site-packages (from torch) (12.1.105)\n",
      "Requirement already satisfied: nvidia-nvjitlink-cu12 in /home/fluke/.local/lib/python3.10/site-packages (from nvidia-cusolver-cu12==11.4.5.107->torch) (12.6.68)\n",
      "Requirement already satisfied: transformers in /home/fluke/.local/lib/python3.10/site-packages (from laion_clap) (4.45.1)\n",
      "Requirement already satisfied: h5py in /home/fluke/.local/lib/python3.10/site-packages (from laion_clap) (3.12.1)\n",
      "Requirement already satisfied: scipy in /home/fluke/.local/lib/python3.10/site-packages (from laion_clap) (1.10.1)\n",
      "Requirement already satisfied: pandas in /home/fluke/.local/lib/python3.10/site-packages (from laion_clap) (2.2.3)\n",
      "Requirement already satisfied: soundfile in /home/fluke/.local/lib/python3.10/site-packages (from laion_clap) (0.12.1)\n",
      "Requirement already satisfied: scikit-learn in /home/fluke/.local/lib/python3.10/site-packages (from laion_clap) (1.2.2)\n",
      "Requirement already satisfied: torchlibrosa in /home/fluke/.local/lib/python3.10/site-packages (from laion_clap) (0.1.0)\n",
      "Requirement already satisfied: tqdm in /home/fluke/.local/lib/python3.10/site-packages (from laion_clap) (4.65.0)\n",
      "Requirement already satisfied: regex in /home/fluke/.local/lib/python3.10/site-packages (from laion_clap) (2024.9.11)\n",
      "Requirement already satisfied: webdataset in /home/fluke/.local/lib/python3.10/site-packages (from laion_clap) (0.2.100)\n",
      "Requirement already satisfied: wandb in /home/fluke/.local/lib/python3.10/site-packages (from laion_clap) (0.18.2)\n",
      "Requirement already satisfied: librosa in /home/fluke/.local/lib/python3.10/site-packages (from laion_clap) (0.10.0.post2)\n",
      "Requirement already satisfied: wget in /home/fluke/.local/lib/python3.10/site-packages (from laion_clap) (3.2)\n",
      "Requirement already satisfied: llvmlite in /home/fluke/.local/lib/python3.10/site-packages (from laion_clap) (0.40.0)\n",
      "Requirement already satisfied: progressbar in /home/fluke/.local/lib/python3.10/site-packages (from laion_clap) (2.5)\n",
      "Requirement already satisfied: ftfy in /home/fluke/.local/lib/python3.10/site-packages (from laion_clap) (6.2.3)\n",
      "Requirement already satisfied: braceexpand in /home/fluke/.local/lib/python3.10/site-packages (from laion_clap) (0.1.7)\n",
      "Requirement already satisfied: pillow!=8.3.*,>=5.3.0 in /home/fluke/.local/lib/python3.10/site-packages (from torchvision) (9.5.0)\n",
      "Requirement already satisfied: wcwidth<0.3.0,>=0.2.12 in /home/fluke/.local/lib/python3.10/site-packages (from ftfy->laion_clap) (0.2.13)\n",
      "Requirement already satisfied: MarkupSafe>=2.0 in /home/fluke/.local/lib/python3.10/site-packages (from jinja2->torch) (2.1.5)\n",
      "Requirement already satisfied: pooch<1.7,>=1.0 in /home/fluke/.local/lib/python3.10/site-packages (from librosa->laion_clap) (1.6.0)\n",
      "Requirement already satisfied: lazy-loader>=0.1 in /home/fluke/.local/lib/python3.10/site-packages (from librosa->laion_clap) (0.2)\n",
      "Requirement already satisfied: joblib>=0.14 in /home/fluke/.local/lib/python3.10/site-packages (from librosa->laion_clap) (1.2.0)\n",
      "Requirement already satisfied: msgpack>=1.0 in /home/fluke/.local/lib/python3.10/site-packages (from librosa->laion_clap) (1.0.5)\n",
      "Requirement already satisfied: numba>=0.51.0 in /home/fluke/.local/lib/python3.10/site-packages (from librosa->laion_clap) (0.57.0)\n",
      "Requirement already satisfied: decorator>=4.3.0 in /home/fluke/.local/lib/python3.10/site-packages (from librosa->laion_clap) (4.4.2)\n",
      "Requirement already satisfied: soxr>=0.3.2 in /home/fluke/.local/lib/python3.10/site-packages (from librosa->laion_clap) (0.3.5)\n",
      "Requirement already satisfied: audioread>=2.1.9 in /home/fluke/.local/lib/python3.10/site-packages (from librosa->laion_clap) (3.0.1)\n",
      "Requirement already satisfied: threadpoolctl>=2.0.0 in /home/fluke/.local/lib/python3.10/site-packages (from scikit-learn->laion_clap) (3.1.0)\n",
      "Requirement already satisfied: cffi>=1.0 in /home/fluke/.local/lib/python3.10/site-packages (from soundfile->laion_clap) (1.15.1)\n",
      "Requirement already satisfied: pytz>=2020.1 in /home/fluke/.local/lib/python3.10/site-packages (from pandas->laion_clap) (2024.2)\n",
      "Requirement already satisfied: python-dateutil>=2.8.2 in /home/fluke/.local/lib/python3.10/site-packages (from pandas->laion_clap) (2.8.2)\n",
      "Requirement already satisfied: tzdata>=2022.7 in /home/fluke/.local/lib/python3.10/site-packages (from pandas->laion_clap) (2024.2)\n",
      "Requirement already satisfied: mpmath<1.4,>=1.1.0 in /home/fluke/.local/lib/python3.10/site-packages (from sympy->torch) (1.3.0)\n",
      "Requirement already satisfied: pyyaml>=5.1 in /usr/lib/python3/dist-packages (from transformers->laion_clap) (5.4.1)\n",
      "Requirement already satisfied: packaging>=20.0 in /home/fluke/.local/lib/python3.10/site-packages (from transformers->laion_clap) (23.1)\n",
      "Requirement already satisfied: huggingface-hub<1.0,>=0.23.2 in /home/fluke/.local/lib/python3.10/site-packages (from transformers->laion_clap) (0.25.1)\n",
      "Requirement already satisfied: safetensors>=0.4.1 in /home/fluke/.local/lib/python3.10/site-packages (from transformers->laion_clap) (0.4.5)\n",
      "Requirement already satisfied: tokenizers<0.21,>=0.20 in /home/fluke/.local/lib/python3.10/site-packages (from transformers->laion_clap) (0.20.0)\n",
      "Requirement already satisfied: requests in /home/fluke/.local/lib/python3.10/site-packages (from transformers->laion_clap) (2.32.3)\n",
      "Requirement already satisfied: platformdirs in /home/fluke/.local/lib/python3.10/site-packages (from wandb->laion_clap) (4.3.6)\n",
      "Requirement already satisfied: psutil>=5.0.0 in /home/fluke/.local/lib/python3.10/site-packages (from wandb->laion_clap) (6.0.0)\n",
      "Requirement already satisfied: protobuf!=4.21.0,!=5.28.0,<6,>=3.19.0 in /home/fluke/.local/lib/python3.10/site-packages (from wandb->laion_clap) (5.28.2)\n",
      "Requirement already satisfied: gitpython!=3.1.29,>=1.0.0 in /home/fluke/.local/lib/python3.10/site-packages (from wandb->laion_clap) (3.1.43)\n",
      "Requirement already satisfied: sentry-sdk>=1.0.0 in /home/fluke/.local/lib/python3.10/site-packages (from wandb->laion_clap) (2.14.0)\n",
      "Requirement already satisfied: click!=8.0.0,>=7.1 in /home/fluke/.local/lib/python3.10/site-packages (from wandb->laion_clap) (8.1.7)\n",
      "Requirement already satisfied: setuptools in /usr/lib/python3/dist-packages (from wandb->laion_clap) (59.6.0)\n",
      "Requirement already satisfied: docker-pycreds>=0.4.0 in /home/fluke/.local/lib/python3.10/site-packages (from wandb->laion_clap) (0.4.0)\n",
      "Requirement already satisfied: setproctitle in /home/fluke/.local/lib/python3.10/site-packages (from wandb->laion_clap) (1.3.3)\n",
      "Requirement already satisfied: pycparser in /home/fluke/.local/lib/python3.10/site-packages (from cffi>=1.0->soundfile->laion_clap) (2.21)\n",
      "Requirement already satisfied: six>=1.4.0 in /usr/lib/python3/dist-packages (from docker-pycreds>=0.4.0->wandb->laion_clap) (1.16.0)\n",
      "Requirement already satisfied: gitdb<5,>=4.0.1 in /home/fluke/.local/lib/python3.10/site-packages (from gitpython!=3.1.29,>=1.0.0->wandb->laion_clap) (4.0.11)\n",
      "Requirement already satisfied: appdirs>=1.3.0 in /home/fluke/.local/lib/python3.10/site-packages (from pooch<1.7,>=1.0->librosa->laion_clap) (1.4.4)\n",
      "Requirement already satisfied: certifi>=2017.4.17 in /home/fluke/.local/lib/python3.10/site-packages (from requests->transformers->laion_clap) (2023.5.7)\n",
      "Requirement already satisfied: idna<4,>=2.5 in /home/fluke/.local/lib/python3.10/site-packages (from requests->transformers->laion_clap) (3.4)\n",
      "Requirement already satisfied: urllib3<3,>=1.21.1 in /home/fluke/.local/lib/python3.10/site-packages (from requests->transformers->laion_clap) (2.0.2)\n",
      "Requirement already satisfied: charset-normalizer<4,>=2 in /home/fluke/.local/lib/python3.10/site-packages (from requests->transformers->laion_clap) (3.1.0)\n",
      "Requirement already satisfied: smmap<6,>=3.0.1 in /home/fluke/.local/lib/python3.10/site-packages (from gitdb<5,>=4.0.1->gitpython!=3.1.29,>=1.0.0->wandb->laion_clap) (5.0.1)\n",
      "Note: you may need to restart the kernel to use updated packages.\n"
     ]
    }
   ],
   "source": [
    "%pip install numpy==1.23.5 torch laion_clap torchvision"
   ]
  },
  {
   "cell_type": "code",
   "execution_count": 3,
   "metadata": {},
   "outputs": [],
   "source": [
    "import os"
   ]
  },
  {
   "cell_type": "code",
   "execution_count": 1,
   "metadata": {},
   "outputs": [
    {
     "name": "stdout",
     "output_type": "stream",
     "text": [
      "MoviePy - Writing audio in output_audio1.wav\n"
     ]
    },
    {
     "name": "stderr",
     "output_type": "stream",
     "text": [
      "                                                                                                                                                                                                                      "
     ]
    },
    {
     "name": "stdout",
     "output_type": "stream",
     "text": [
      "MoviePy - Done.\n"
     ]
    },
    {
     "name": "stderr",
     "output_type": "stream",
     "text": [
      "\r"
     ]
    }
   ],
   "source": [
    "from moviepy.editor import VideoFileClip\n",
    "\n",
    "# Загрузка видео файла\n",
    "video = VideoFileClip('videos/paris.mp4')\n",
    "audio = video.audio\n",
    "\n",
    "# Запись аудио в файл\n",
    "audio.write_audiofile('output_audio1.wav')"
   ]
  },
  {
   "cell_type": "code",
   "execution_count": 3,
   "metadata": {},
   "outputs": [
    {
     "ename": "AttributeError",
     "evalue": "'AudioFileClip' object has no attribute 'to_list'",
     "output_type": "error",
     "traceback": [
      "\u001b[0;31m---------------------------------------------------------------------------\u001b[0m",
      "\u001b[0;31mAttributeError\u001b[0m                            Traceback (most recent call last)",
      "Cell \u001b[0;32mIn[3], line 1\u001b[0m\n\u001b[0;32m----> 1\u001b[0m \u001b[43maudio\u001b[49m\u001b[38;5;241;43m.\u001b[39;49m\u001b[43mto_list\u001b[49m()\n",
      "\u001b[0;31mAttributeError\u001b[0m: 'AudioFileClip' object has no attribute 'to_list'"
     ]
    }
   ],
   "source": [
    "audio"
   ]
  },
  {
   "cell_type": "code",
   "execution_count": 5,
   "metadata": {},
   "outputs": [],
   "source": [
    "# video_paths = [os.path.join('train_data_yappy', 'train_dataset', name) for name in os.listdir('train_data_yappy/train_dataset')]\n",
    "\n",
    "# for i in range(15):\n",
    "\n",
    "#     video = VideoFileClip(video_paths[i])\n",
    "\n",
    "#     video_id = video_paths[i].split('.')[0].split('/')[-1]\n",
    "\n",
    "#     print(video_id)\n",
    "#     audio = video.audio\n",
    "\n",
    "#     # Запись аудио в файл\n",
    "\n",
    "\n",
    "#     audio.write_audiofile(f'audios/{video_id}.wav')"
   ]
  },
  {
   "cell_type": "code",
   "execution_count": 6,
   "metadata": {},
   "outputs": [
    {
     "name": "stdout",
     "output_type": "stream",
     "text": [
      "\u001b[0m\u001b[01;32m000be48d-c88c-4d48-8b7a-28430ac9b57d.wav\u001b[0m*\n",
      "\u001b[01;32m00193d83-60c0-40db-a5e8-68af84b16669.wav\u001b[0m*\n",
      "\u001b[01;32m001f5558-6748-4c0f-be23-f65c9673fd56.wav\u001b[0m*\n",
      "\u001b[01;32m0028b579-7363-424a-8d7b-027ebf23376a.wav\u001b[0m*\n",
      "\u001b[01;32m0030d7dc-ea06-4698-8773-2ced50bbfb26.wav\u001b[0m*\n",
      "\u001b[01;32m005366e7-4bf5-4719-a761-6b8b9721df77.wav\u001b[0m*\n",
      "\u001b[01;32m0067b0d6-ba3b-40fb-8535-3cb4809f8d07.wav\u001b[0m*\n",
      "\u001b[01;32m00725668-b4cc-4e89-be0d-1a12bcfbb453.wav\u001b[0m*\n",
      "\u001b[01;32m007581c6-d6fd-4094-9953-5f3240fa500e.wav\u001b[0m*\n",
      "\u001b[01;32m0084cd00-e413-49b2-8e9e-44ddc08c1b03.wav\u001b[0m*\n",
      "\u001b[01;32m008fa16b-75d3-48b3-8234-5f0633aa7692.wav\u001b[0m*\n",
      "\u001b[01;32m00a5f7b0-2d87-4d2a-abbd-0173a9f83c7b.wav\u001b[0m*\n",
      "\u001b[01;32m00aa07d0-70c9-4bb7-9a52-477133d41842.wav\u001b[0m*\n",
      "\u001b[01;32m00c21d3e-d62c-4800-aebe-f6f25ea2b2e7.wav\u001b[0m*\n",
      "\u001b[01;32m00c477cf-7fc0-4f1a-9bfb-47bb5e5db6f3.wav\u001b[0m*\n",
      "\u001b[01;32moutput_audio1.wav\u001b[0m*\n",
      "\u001b[01;32moutput_audio2.wav\u001b[0m*\n",
      "\u001b[01;32moutput_audio3.wav\u001b[0m*\n",
      "\u001b[01;32moutput_audio4.wav\u001b[0m*\n",
      "\u001b[01;32moutput_audio5.wav\u001b[0m*\n",
      "\u001b[01;32moutput_audio6.wav\u001b[0m*\n"
     ]
    }
   ],
   "source": [
    "ls audios"
   ]
  },
  {
   "cell_type": "code",
   "execution_count": null,
   "metadata": {},
   "outputs": [],
   "source": [
    "import numpy as np\n",
    "import librosa\n",
    "import torch\n",
    "import laion_clap\n",
    "\n",
    "device = torch.device('cuda:0')\n",
    "\n",
    "# quantization\n",
    "def int16_to_float32(x):\n",
    "    return (x / 32767.0).astype(np.float32)\n",
    "\n",
    "\n",
    "def float32_to_int16(x):\n",
    "    x = np.clip(x, a_min=-1., a_max=1.)\n",
    "    return (x * 32767.).astype(np.int16)\n",
    "\n",
    "model = laion_clap.CLAP_Module(enable_fusion=False, device=device)\n",
    "model.load_ckpt() # download the default pretrained checkpoint."
   ]
  },
  {
   "cell_type": "code",
   "execution_count": 42,
   "metadata": {},
   "outputs": [
    {
     "name": "stdout",
     "output_type": "stream",
     "text": [
      "[[ 0.03097701  0.0063543   0.09989356 -0.01278205 -0.04222668 -0.01555031\n",
      "  -0.11551933 -0.01102222  0.05437489  0.03207484  0.00297631  0.0766346\n",
      "   0.02626501 -0.00652962 -0.02656613 -0.02163539 -0.02947177 -0.04186344\n",
      "  -0.05728531 -0.0184508 ]]\n",
      "(1, 512)\n"
     ]
    }
   ],
   "source": [
    "# Directly get audio embeddings from audio files\n",
    "\n",
    "\n",
    "audio_file = [\n",
    "    'audios/00a5f7b0-2d87-4d2a-abbd-0173a9f83c7b.wav',\n",
    "    'audios/00aa07d0-70c9-4bb7-9a52-477133d41842.wav'\n",
    "]\n",
    "\n",
    "# audio_embed = model.get_audio_embedding_from_filelist(x = [audio_file[0]], use_tensor=True)\n",
    "# print(audio_embed[:,-20:])\n",
    "# print(audio_embed.shape)\n",
    "\n",
    "\n",
    "# Get audio embeddings from audio data\n",
    "audio_data, _ = librosa.load(audio_file[0], sr=48000) # sample rate should be 48000\n",
    "audio_data = audio_data.reshape(1, -1) # Make it (1,T) or (N,T)\n",
    "audio_embed = model.get_audio_embedding_from_data(x = audio_data, use_tensor=False)\n",
    "print(audio_embed[:,-20:])\n",
    "print(audio_embed.shape)\n",
    "\n",
    "# # Directly get audio embeddings from audio files, but return torch tensor\n",
    "# audio_file = [\n",
    "#     '/home/data/test_clap_short.wav',\n",
    "#     '/home/data/test_clap_long.wav'\n",
    "# ]\n",
    "# audio_embed = model.get_audio_embedding_from_filelist(x = audio_file, use_tensor=True)\n",
    "# print(audio_embed[:,-20:])\n",
    "# print(audio_embed.shape)\n",
    "\n",
    "# Get audio embeddings from audio data\n",
    "# audio_data, _ = librosa.load(audio_file[0], sr=48000) # sample rate should be 48000\n",
    "# audio_data = audio_data.reshape(1, -1) # Make it (1,T) or (N,T)\n",
    "# audio_data = torch.from_numpy(int16_to_float32(float32_to_int16(audio_data))).float() # quantize before send it in to the model\n",
    "# audio_embed = model.get_audio_embedding_from_data(x = audio_data, use_tensor=True)\n",
    "# print(audio_embed[:,-20:])\n",
    "# print(audio_embed.shape)"
   ]
  },
  {
   "cell_type": "code",
   "execution_count": 12,
   "metadata": {},
   "outputs": [
    {
     "data": {
      "text/plain": [
       "['audios/000be48d-c88c-4d48-8b7a-28430ac9b57d.wav',\n",
       " 'audios/00193d83-60c0-40db-a5e8-68af84b16669.wav',\n",
       " 'audios/001f5558-6748-4c0f-be23-f65c9673fd56.wav',\n",
       " 'audios/0028b579-7363-424a-8d7b-027ebf23376a.wav',\n",
       " 'audios/0030d7dc-ea06-4698-8773-2ced50bbfb26.wav',\n",
       " 'audios/005366e7-4bf5-4719-a761-6b8b9721df77.wav',\n",
       " 'audios/0067b0d6-ba3b-40fb-8535-3cb4809f8d07.wav',\n",
       " 'audios/00725668-b4cc-4e89-be0d-1a12bcfbb453.wav',\n",
       " 'audios/007581c6-d6fd-4094-9953-5f3240fa500e.wav',\n",
       " 'audios/0084cd00-e413-49b2-8e9e-44ddc08c1b03.wav',\n",
       " 'audios/008fa16b-75d3-48b3-8234-5f0633aa7692.wav',\n",
       " 'audios/00a5f7b0-2d87-4d2a-abbd-0173a9f83c7b.wav',\n",
       " 'audios/00aa07d0-70c9-4bb7-9a52-477133d41842.wav',\n",
       " 'audios/00c21d3e-d62c-4800-aebe-f6f25ea2b2e7.wav',\n",
       " 'audios/00c477cf-7fc0-4f1a-9bfb-47bb5e5db6f3.wav',\n",
       " 'audios/output_audio1.wav',\n",
       " 'audios/output_audio2.wav',\n",
       " 'audios/output_audio3.wav',\n",
       " 'audios/output_audio4.wav',\n",
       " 'audios/output_audio5.wav',\n",
       " 'audios/output_audio6.wav']"
      ]
     },
     "execution_count": 12,
     "metadata": {},
     "output_type": "execute_result"
    }
   ],
   "source": [
    "audio_file"
   ]
  },
  {
   "cell_type": "code",
   "execution_count": 15,
   "metadata": {},
   "outputs": [
    {
     "data": {
      "text/plain": [
       "'audios/000be48d-c88c-4d48-8b7a-28430ac9b57d.wav'"
      ]
     },
     "execution_count": 15,
     "metadata": {},
     "output_type": "execute_result"
    }
   ],
   "source": [
    "[os.path.join('audios', name) for name in os.listdir('audios')][0]"
   ]
  },
  {
   "cell_type": "code",
   "execution_count": 17,
   "metadata": {},
   "outputs": [
    {
     "name": "stdout",
     "output_type": "stream",
     "text": [
      "tensor([[ 0.0623, -0.0340,  0.0757,  0.0431, -0.0146, -0.0052, -0.0883,  0.0234,\n",
      "         -0.0390, -0.0233, -0.0036, -0.0256,  0.0444,  0.0281, -0.0236,  0.0178,\n",
      "         -0.0278,  0.0285,  0.0528, -0.0377]], device='cuda:0',\n",
      "       grad_fn=<SliceBackward0>)\n",
      "torch.Size([1, 512])\n"
     ]
    }
   ],
   "source": [
    "audio_file = [[os.path.join('audios', name) for name in os.listdir('audios')][0]]\n",
    "\n",
    "audio_embed = model.get_audio_embedding_from_filelist(x = audio_file, use_tensor=True)\n",
    "print(audio_embed[:,-20:])\n",
    "print(audio_embed.shape)"
   ]
  }
 ],
 "metadata": {
  "kernelspec": {
   "display_name": "Python 3 (ipykernel)",
   "language": "python",
   "name": "python3"
  },
  "language_info": {
   "codemirror_mode": {
    "name": "ipython",
    "version": 3
   },
   "file_extension": ".py",
   "mimetype": "text/x-python",
   "name": "python",
   "nbconvert_exporter": "python",
   "pygments_lexer": "ipython3",
   "version": "3.10.12"
  }
 },
 "nbformat": 4,
 "nbformat_minor": 2
}
